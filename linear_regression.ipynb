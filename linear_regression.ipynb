{
 "cells": [
  {
   "cell_type": "code",
   "execution_count": 1,
   "id": "f6b5498f-4ba0-4257-8724-fbdfd714e3eb",
   "metadata": {},
   "outputs": [],
   "source": [
    "import pandas as pd\n",
    "\n",
    "df = pd.read_csv('EnergyEfficiency.csv')"
   ]
  },
  {
   "cell_type": "code",
   "execution_count": 2,
   "id": "b27982fa-1ac5-407d-96bd-02206f2d0d1b",
   "metadata": {},
   "outputs": [
    {
     "data": {
      "text/plain": [
       "array(['None', 'Uniform', 'North', 'East', 'South', 'West'], dtype=object)"
      ]
     },
     "execution_count": 2,
     "metadata": {},
     "output_type": "execute_result"
    }
   ],
   "source": [
    "df['GlazingAreaDistribution'].unique()"
   ]
  },
  {
   "cell_type": "code",
   "execution_count": 3,
   "id": "a6f5b6a8-9406-405c-8c25-43448443aab8",
   "metadata": {},
   "outputs": [
    {
     "name": "stdout",
     "output_type": "stream",
     "text": [
      "   Compactness  SurfaceArea  WallArea  RoofArea  Height Orientation  \\\n",
      "0         0.62        808.5     367.5     220.5     3.5        East   \n",
      "\n",
      "   GlazingLevel GlazingAreaDistribution  HeatingLoad  CoolingLoad  \n",
      "0           0.1                   North          0.0          0.0  \n",
      "Predicted Heating Load: [12.66956881]\n",
      "Predicted Cooling Load: [15.13694088]\n",
      "R-squared value (Heating Load): 0.9158819989985129\n",
      "Mean Squared Error (Heating Load): 8.553074780220324\n",
      "R-squared value (Cooling Load): 0.8885026832391478\n",
      "Mean Squared Error (Cooling Load): 10.077700618142643\n"
     ]
    }
   ],
   "source": [
    "from sklearn.linear_model import LinearRegression\n",
    "from sklearn.preprocessing import LabelEncoder, OneHotEncoder\n",
    "from sklearn.compose import ColumnTransformer\n",
    "from sklearn.impute import SimpleImputer\n",
    "from sklearn.metrics import r2_score, mean_squared_error\n",
    "\n",
    "label_encoder = LabelEncoder()\n",
    "df['GlazingAreaDistribution'] = label_encoder.fit_transform(df['GlazingAreaDistribution'])\n",
    "\n",
    "column_transformer = ColumnTransformer([('encoder', OneHotEncoder(), [5])], remainder='passthrough')\n",
    "df = column_transformer.fit_transform(df)\n",
    "\n",
    "X = df[:, :-2]\n",
    "y_heat = df[:, -2]\n",
    "y_cool = df[:, -1]\n",
    "\n",
    "imputer = SimpleImputer(strategy='mean')\n",
    "X = imputer.fit_transform(X)\n",
    "\n",
    "regressor_heat = LinearRegression()\n",
    "regressor_cool = LinearRegression()\n",
    "\n",
    "regressor_heat.fit(X, y_heat)\n",
    "regressor_cool.fit(X, y_cool)\n",
    "\n",
    "dummy_data = {\n",
    "    'Compactness': [0.62],\n",
    "    'SurfaceArea': [808.5],\n",
    "    'WallArea': [367.5],\n",
    "    'RoofArea': [220.5],\n",
    "    'Height': [3.5],\n",
    "    'Orientation': ['East'],\n",
    "    'GlazingLevel': [0.1],\n",
    "    'GlazingAreaDistribution': ['North'],\n",
    "    'HeatingLoad': [0.0],\n",
    "    'CoolingLoad': [0.0]\n",
    "}\n",
    "\n",
    "dummy_df = pd.DataFrame(dummy_data)\n",
    "print(dummy_df)\n",
    "\n",
    "dummy_df['GlazingAreaDistribution'] = label_encoder.transform(dummy_df['GlazingAreaDistribution'])\n",
    "\n",
    "dummy_data_transformed = column_transformer.transform(dummy_df)[:, :-2] \n",
    "\n",
    "dummy_pred_heat = regressor_heat.predict(dummy_data_transformed)\n",
    "dummy_pred_cool = regressor_cool.predict(dummy_data_transformed)\n",
    "\n",
    "r2_heat = r2_score(y_heat, regressor_heat.predict(X))\n",
    "mse_heat = mean_squared_error(y_heat, regressor_heat.predict(X))\n",
    "r2_cool = r2_score(y_cool, regressor_cool.predict(X))\n",
    "mse_cool = mean_squared_error(y_cool, regressor_cool.predict(X))\n",
    "\n",
    "print('Predicted Heating Load:', dummy_pred_heat)\n",
    "print('Predicted Cooling Load:', dummy_pred_cool)\n",
    "print('R-squared value (Heating Load):', r2_heat)\n",
    "print('Mean Squared Error (Heating Load):', mse_heat)\n",
    "print('R-squared value (Cooling Load):', r2_cool)\n",
    "print('Mean Squared Error (Cooling Load):', mse_cool)"
   ]
  }
 ],
 "metadata": {
  "kernelspec": {
   "display_name": "Python 3 (ipykernel)",
   "language": "python",
   "name": "python3"
  },
  "language_info": {
   "codemirror_mode": {
    "name": "ipython",
    "version": 3
   },
   "file_extension": ".py",
   "mimetype": "text/x-python",
   "name": "python",
   "nbconvert_exporter": "python",
   "pygments_lexer": "ipython3",
   "version": "3.10.9"
  }
 },
 "nbformat": 4,
 "nbformat_minor": 5
}
